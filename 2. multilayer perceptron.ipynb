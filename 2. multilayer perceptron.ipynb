{
 "cells": [
  {
   "cell_type": "markdown",
   "metadata": {},
   "source": [
    "# Multi-layer perceptron\n",
    "\n",
    "Ici nous allons utiliser tensorflow pour creer un reseau de perceptron avec une couche cachee, la majorite du code et des explications du debut sont identiques au premier tutoriel."
   ]
  },
  {
   "cell_type": "code",
   "execution_count": 1,
   "metadata": {
    "collapsed": false
   },
   "outputs": [],
   "source": [
    "import tensorflow as tf\n",
    "import matplotlib\n",
    "import matplotlib.pyplot as plt\n",
    "import random"
   ]
  },
  {
   "cell_type": "markdown",
   "metadata": {},
   "source": [
    "Dans le code qui suit nous allons charger les donnees MNIST, le code se chargera de telecharger les donnees pour vous, laissez lui un peu de temps."
   ]
  },
  {
   "cell_type": "code",
   "execution_count": 2,
   "metadata": {
    "collapsed": false
   },
   "outputs": [
    {
     "name": "stdout",
     "output_type": "stream",
     "text": [
      "Extracting MNIST_data/train-images-idx3-ubyte.gz\n",
      "Extracting MNIST_data/train-labels-idx1-ubyte.gz\n",
      "Extracting MNIST_data/t10k-images-idx3-ubyte.gz\n",
      "Extracting MNIST_data/t10k-labels-idx1-ubyte.gz\n"
     ]
    }
   ],
   "source": [
    "from tensorflow.examples.tutorials.mnist import input_data\n",
    "mnist = input_data.read_data_sets(\"MNIST_data/\", one_hot=True)"
   ]
  },
  {
   "cell_type": "code",
   "execution_count": 3,
   "metadata": {
    "collapsed": false,
    "scrolled": true
   },
   "outputs": [
    {
     "data": {
      "image/png": "[encoded data removed]",
      "text/plain": [
       "<matplotlib.figure.Figure at 0x1e9c74f96a0>"
      ]
     },
     "metadata": {},
     "output_type": "display_data"
    }
   ],
   "source": [
    "fig = plt.figure()\n",
    "ax = fig.add_subplot(1, 1, 1)\n",
    "s = ax.imshow(random.choice(mnist.test.images).reshape((28,28)), cmap = matplotlib.cm.binary)\n",
    "plt.show()"
   ]
  },
  {
   "cell_type": "markdown",
   "metadata": {},
   "source": [
    "Ci-dessus un exemple aleatoire de chiffre MNIST. Le code a peu d'interet, ne vous attardez pas dessus."
   ]
  },
  {
   "cell_type": "code",
   "execution_count": 4,
   "metadata": {
    "collapsed": true
   },
   "outputs": [],
   "source": [
    "x = tf.placeholder(tf.float32, [None, 28*28])\n",
    "classes = tf.placeholder(tf.float32, [None, 10])"
   ]
  },
  {
   "cell_type": "markdown",
   "metadata": {},
   "source": [
    "Nos images font 28x28 pixels, nous avons donc besoin d'un moyen de donner ces images a notre modele, comme nous ne les envoyons pas au modele pendant que nous le construisons nous utilisons un **placeholder**.\n",
    "\n",
    "Nous utilisons egalement un **placeholder** pour les classes. Par exemple un chiffre '1' aura pour classe [1, 0, 0, 0, 0, 0, 0, 0, 0, 0] et le chiffre '5' aura pour classe [0, 0, 0, 0, 1, 0, 0, 0, 0, 0], c'est pourquoi nous avons 10 comme dimension. "
   ]
  },
  {
   "cell_type": "code",
   "execution_count": 5,
   "metadata": {
    "collapsed": true
   },
   "outputs": [],
   "source": [
    "def generate_weights(x, y):\n",
    "    return tf.Variable(tf.truncated_normal([x, y], stddev=1./x))\n",
    "\n",
    "def generate_bias(x):\n",
    "    return tf.Variable(tf.truncated_normal([x], stddev=1./x))"
   ]
  },
  {
   "cell_type": "markdown",
   "metadata": {},
   "source": [
    "Deux fonctions permettant d'initialiser les poids et les bias aleatoirement, pour eviter d'avoir un gradient a 0 ce qui empecherait l'apprentissage."
   ]
  },
  {
   "cell_type": "code",
   "execution_count": 6,
   "metadata": {
    "collapsed": false
   },
   "outputs": [],
   "source": [
    "W_hidden = generate_weights(28*28, 128)\n",
    "b_hidden = generate_bias(128)\n",
    "\n",
    "W = generate_weights(128, 10)\n",
    "b = generate_bias(10)"
   ]
  },
  {
   "cell_type": "markdown",
   "metadata": {},
   "source": [
    "Voila le modele, nous utilisons 10 neurones, 1 par chiffre possible, chaque neurone prend en entree les sorties de 128 autres neurones qui prennent en entrees tous les pixels nous avons donc besoin d'une matrice 28x28 = 784, 784x128 et d'une matrice 128x10.\n",
    "\n",
    "La variable b est notre bias, nous reviendrons sur son utilite dans un prochain chapitre."
   ]
  },
  {
   "cell_type": "code",
   "execution_count": 7,
   "metadata": {
    "collapsed": false
   },
   "outputs": [],
   "source": [
    "y_hidden = tf.nn.relu(tf.matmul(x, W_hidden) + b_hidden)\n",
    "\n",
    "y = tf.matmul(y_hidden, W) + b"
   ]
  },
  {
   "cell_type": "markdown",
   "metadata": {},
   "source": [
    "Nous multiplions x qui etait notre placeholder de dimension Nx784 avec notre matrice W_hidden de dimension 784x128 ce qui donne une matrice Nx128 a laquelle nous ajoutons notre bias. Nous appliquons ensuite une fonction non lineaire **relu** sur le resultat, vous pouvez essayer d'utiliser **softmax** afin de comparer les resultats. Nous utilisons le resultat avec notre matrice 128x10. "
   ]
  },
  {
   "cell_type": "code",
   "execution_count": 8,
   "metadata": {
    "collapsed": false
   },
   "outputs": [],
   "source": [
    "cross_entropy = tf.reduce_mean(\n",
    "      tf.nn.softmax_cross_entropy_with_logits(labels=classes, logits=y))"
   ]
  },
  {
   "cell_type": "markdown",
   "metadata": {},
   "source": [
    "Ici nous definissons notre fonction de cout, elle applique egalement la fonction softmax sur **y**."
   ]
  },
  {
   "cell_type": "code",
   "execution_count": 9,
   "metadata": {
    "collapsed": true
   },
   "outputs": [],
   "source": [
    "entrainement = tf.train.GradientDescentOptimizer(0.5).minimize(cross_entropy)"
   ]
  },
  {
   "cell_type": "markdown",
   "metadata": {},
   "source": [
    "Nous utilisons la methode de descente de gradient pour minimiser notre fonction de cout. \n",
    "\n",
    "![descente de gradient](http://images.slideplayer.fr/4/1570133/slides/slide_97.jpg)\n"
   ]
  },
  {
   "cell_type": "code",
   "execution_count": 10,
   "metadata": {
    "collapsed": true
   },
   "outputs": [],
   "source": [
    "sess = tf.InteractiveSession()\n",
    "tf.global_variables_initializer().run()"
   ]
  },
  {
   "cell_type": "markdown",
   "metadata": {},
   "source": [
    "Notre modele etant fini nous pouvons lancer une session tensorflow et initialiser toutes nos variables."
   ]
  },
  {
   "cell_type": "code",
   "execution_count": 11,
   "metadata": {
    "collapsed": false
   },
   "outputs": [],
   "source": [
    "for _ in range(1000):\n",
    "    batch_xs, batch_ys = mnist.train.next_batch(100)\n",
    "    sess.run(entrainement, feed_dict={x: batch_xs, classes: batch_ys})"
   ]
  },
  {
   "cell_type": "code",
   "execution_count": 12,
   "metadata": {
    "collapsed": false
   },
   "outputs": [
    {
     "name": "stdout",
     "output_type": "stream",
     "text": [
      "Taux de reussite: 0.9619\n"
     ]
    }
   ],
   "source": [
    "# Test trained model\n",
    "prediction = tf.equal(tf.argmax(y, 1), tf.argmax(classes, 1))\n",
    "performance = tf.reduce_mean(tf.cast(prediction, tf.float32))\n",
    "taux_reussite = sess.run(performance, feed_dict={x: mnist.test.images,\n",
    "                                  classes: mnist.test.labels})\n",
    "\n",
    "print(\"Taux de reussite: \" + str(taux_reussite))"
   ]
  },
  {
   "cell_type": "markdown",
   "metadata": {},
   "source": [
    "Voila qui conclu le chapitre sur les reseaux avec plusieurs couches!\n",
    "Vous pouvez voir que nous obtenons un resultat d'environ 96% compare au 91% du modele simple.\n",
    "\n",
    "**Exercice 1:** Utiliser la fonction prediction sur une image aleatoire random.choice(mnist.test.images) et l'afficher afin de verifier si vous etes d'accord avec la prediction du modele.\n",
    "\n",
    "**Exercice 2:** Changer le nombre de neurones dans la couche cache (128 ici) pour voir l'effet sur le taux de reussite.\n",
    "\n",
    "**Exercice 3:** Ajouter une couche supplementaire au reseau et voir l'effet sur le taux de reussite."
   ]
  }
 ],
 "metadata": {
  "kernelspec": {
   "display_name": "Python 3",
   "language": "python",
   "name": "python3"
  },
  "language_info": {
   "codemirror_mode": {
    "name": "ipython",
    "version": 3
   },
   "file_extension": ".py",
   "mimetype": "text/x-python",
   "name": "python",
   "nbconvert_exporter": "python",
   "pygments_lexer": "ipython3",
   "version": "3.5.2"
  }
 },
 "nbformat": 4,
 "nbformat_minor": 2
}
