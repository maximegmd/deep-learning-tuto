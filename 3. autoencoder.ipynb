{
 "cells": [
  {
   "cell_type": "markdown",
   "metadata": {
    "collapsed": false
   },
   "source": [
    "# Autoencoder\n",
    "\n",
    "Les autoencoders permettent d'extraire les caracteristiques importantes de donnees, le principe est tres simple, on demande a un multilayer perceptron de reconstituer l'entree, en utilisant un encodeur puis un decodeur."
   ]
  },
  {
   "cell_type": "code",
   "execution_count": 1,
   "metadata": {
    "collapsed": false
   },
   "outputs": [
    {
     "name": "stdout",
     "output_type": "stream",
     "text": [
      "Extracting MNIST_data\\train-images-idx3-ubyte.gz\n",
      "Extracting MNIST_data\\train-labels-idx1-ubyte.gz\n",
      "Extracting MNIST_data\\t10k-images-idx3-ubyte.gz\n",
      "Extracting MNIST_data\\t10k-labels-idx1-ubyte.gz\n"
     ]
    }
   ],
   "source": [
    "from __future__ import division, print_function, absolute_import\n",
    "%matplotlib inline\n",
    "import tensorflow as tf\n",
    "import numpy as np\n",
    "import matplotlib.pyplot as plt\n",
    "\n",
    "# Import MINST data\n",
    "from tensorflow.examples.tutorials.mnist import input_data\n",
    "mnist = input_data.read_data_sets(\"MNIST_data\", one_hot=True)"
   ]
  },
  {
   "cell_type": "code",
   "execution_count": 2,
   "metadata": {
    "collapsed": true
   },
   "outputs": [],
   "source": [
    "# Parametres\n",
    "vitesse_apprentissage = 0.001\n",
    "batch_size = 256\n",
    "display_step = 1\n",
    "examples_to_show = 10\n",
    "\n",
    "# Parametres du reseau\n",
    "n_hidden_1 = 512 # Neurones de la premiere couche\n",
    "n_hidden_2 = 256 # Neurones de la secondes couche\n",
    "n_input = 28*28\n",
    "\n",
    "X = tf.placeholder(\"float\", [None, n_input])"
   ]
  },
  {
   "cell_type": "code",
   "execution_count": 3,
   "metadata": {
    "collapsed": true
   },
   "outputs": [],
   "source": [
    "def generate_weights(x, y):\n",
    "    return tf.Variable(tf.truncated_normal([x, y], stddev=1./x))\n",
    "\n",
    "def generate_bias(x):\n",
    "    return tf.Variable(tf.truncated_normal([x], stddev=1./x))"
   ]
  },
  {
   "cell_type": "code",
   "execution_count": 4,
   "metadata": {
    "collapsed": true
   },
   "outputs": [],
   "source": [
    "encoder_W1 = generate_weights(n_input, n_hidden_1)\n",
    "encoder_W2 = generate_weights(n_hidden_1, n_hidden_2)\n",
    "decoder_W1 = generate_weights(n_hidden_2, n_hidden_1)\n",
    "decoder_W2 = generate_weights(n_hidden_1, n_input)\n",
    "\n",
    "encoder_b1 = generate_bias(n_hidden_1)\n",
    "encoder_b2 = generate_bias(n_hidden_2)\n",
    "decoder_b1 = generate_bias(n_hidden_1)\n",
    "decoder_b2 = generate_bias(n_input)\n"
   ]
  },
  {
   "cell_type": "markdown",
   "metadata": {},
   "source": [
    "Comme il s'agit d'un multilayer perceptron que nous avons deja vu, je ne commente pas cette section, vous voyez seulement l'initialisation des poids et bias de chaque couche."
   ]
  },
  {
   "cell_type": "code",
   "execution_count": 5,
   "metadata": {
    "collapsed": false
   },
   "outputs": [],
   "source": [
    "def encoder(x):\n",
    "    layer_1 = tf.nn.sigmoid(tf.matmul(x, encoder_W1) + encoder_b1)\n",
    "    layer_2 = tf.nn.sigmoid(tf.matmul(layer_1, encoder_W2) + encoder_b2)\n",
    "    return layer_2\n",
    "\n",
    "def decoder(x):\n",
    "    layer_1 = tf.nn.sigmoid(tf.matmul(x, decoder_W1) + decoder_b1)\n",
    "    layer_2 = tf.nn.sigmoid(tf.matmul(layer_1, decoder_W2) + decoder_b2)\n",
    "    return layer_2"
   ]
  },
  {
   "cell_type": "markdown",
   "metadata": {},
   "source": [
    "![autoencoder](http://nghiaho.com/wp-content/uploads/2012/12/autoencoder_network1.png)"
   ]
  },
  {
   "cell_type": "code",
   "execution_count": 6,
   "metadata": {
    "collapsed": false
   },
   "outputs": [],
   "source": [
    "encoder_op = encoder(X)\n",
    "decoder_op = decoder(encoder_op)\n",
    "\n",
    "y_pred = decoder_op\n",
    "\n",
    "cout = tf.reduce_mean(tf.pow(X - y_pred, 2))\n",
    "optimizer = tf.train.AdamOptimizer(vitesse_apprentissage).minimize(cout)"
   ]
  },
  {
   "cell_type": "markdown",
   "metadata": {},
   "source": [
    "Le code ci-dessus ne devrait pas vous surprendre, vous noterez que j'ai choisi un autre algorithme d'optimisation car il est plus rapide, l'ancien algorithme fonctionnerait egalement, vous pouvez d'ailleurs l'essayer et voir les differences de performances. La fonction de cout est differente egalement, on compare pixel par pixel et on eleve au carre pour se debarasser du signe."
   ]
  },
  {
   "cell_type": "code",
   "execution_count": 7,
   "metadata": {
    "collapsed": false
   },
   "outputs": [
    {
     "name": "stdout",
     "output_type": "stream",
     "text": [
      "Iteration: 0001 cout = 0.064544253\n",
      "Iteration: 0002 cout = 0.063724108\n",
      "Iteration: 0003 cout = 0.063213646\n",
      "Iteration: 0004 cout = 0.059210449\n",
      "Iteration: 0005 cout = 0.051766608\n",
      "Iteration: 0006 cout = 0.045903534\n",
      "Iteration: 0007 cout = 0.034541991\n",
      "Iteration: 0008 cout = 0.029489635\n",
      "Iteration: 0009 cout = 0.025136052\n",
      "Iteration: 0010 cout = 0.020402586\n",
      "Iteration: 0011 cout = 0.018321678\n",
      "Iteration: 0012 cout = 0.017198402\n",
      "Iteration: 0013 cout = 0.014703293\n",
      "Iteration: 0014 cout = 0.014012448\n",
      "Iteration: 0015 cout = 0.011536312\n",
      "Iteration: 0016 cout = 0.011382006\n",
      "Iteration: 0017 cout = 0.011140757\n",
      "Iteration: 0018 cout = 0.010074977\n",
      "Iteration: 0019 cout = 0.009598386\n",
      "Iteration: 0020 cout = 0.008981673\n"
     ]
    }
   ],
   "source": [
    "init = tf.global_variables_initializer()\n",
    "sess = tf.InteractiveSession()\n",
    "sess.run(init)\n",
    "\n",
    "total_batch = int(mnist.train.num_examples/batch_size)\n",
    "\n",
    "for epoch in range(20):\n",
    "    for i in range(total_batch):\n",
    "        batch_xs, batch_ys = mnist.train.next_batch(batch_size)\n",
    "        _, c = sess.run([optimizer, cout], feed_dict={X: batch_xs})\n",
    "    \n",
    "    print(\"Iteration:\", '%04d' % (epoch+1),\n",
    "              \"cout =\", \"{:.9f}\".format(c))"
   ]
  },
  {
   "cell_type": "code",
   "execution_count": 8,
   "metadata": {
    "collapsed": false
   },
   "outputs": [
    {
     "name": "stderr",
     "output_type": "stream",
     "text": [
      "D:\\Users\\yamas\\Anaconda3\\envs\\tensorflow\\lib\\site-packages\\matplotlib\\figure.py:402: UserWarning: matplotlib is currently using a non-GUI backend, so cannot show the figure\n",
      "  \"matplotlib is currently using a non-GUI backend, \"\n"
     ]
    },
    {
     "data": {
      "image/png": "[encoded data removed]",
      "text/plain": [
       "<matplotlib.figure.Figure at 0x14faf31d198>"
      ]
     },
     "metadata": {},
     "output_type": "display_data"
    }
   ],
   "source": [
    "# Applying encode and decode over test set\n",
    "encode_decode = sess.run(\n",
    "    y_pred, feed_dict={X: mnist.test.images[:examples_to_show]})\n",
    "# Compare original images with their reconstructions\n",
    "f, a = plt.subplots(2, 10, figsize=(10, 2))\n",
    "for i in range(examples_to_show):\n",
    "    a[0][i].imshow(np.reshape(mnist.test.images[i], (28, 28)))\n",
    "    a[1][i].imshow(np.reshape(encode_decode[i], (28, 28)))\n",
    "\n",
    "f.show()\n",
    "plt.show()"
   ]
  }
 ],
 "metadata": {
  "kernelspec": {
   "display_name": "Python 3",
   "language": "python",
   "name": "python3"
  },
  "language_info": {
   "codemirror_mode": {
    "name": "ipython",
    "version": 3
   },
   "file_extension": ".py",
   "mimetype": "text/x-python",
   "name": "python",
   "nbconvert_exporter": "python",
   "pygments_lexer": "ipython3",
   "version": "3.5.2"
  }
 },
 "nbformat": 4,
 "nbformat_minor": 0
}
